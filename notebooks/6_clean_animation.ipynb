{
 "cells": [
  {
   "cell_type": "markdown",
   "metadata": {},
   "source": [
    "# Supprime les boutons sous les animations"
   ]
  },
  {
   "cell_type": "code",
   "execution_count": null,
   "metadata": {},
   "outputs": [],
   "source": [
    "import re\n",
    "\n",
    "def remove_anim_buttons(input_code):\n",
    "    # Modèle de recherche pour les balises anim-buttons\n",
    "    anim_buttons_pattern = re.compile(r'<div class=\"anim-buttons\">.*?</div>', re.DOTALL)\n",
    "    # Suppression du contenu des balises anim-buttons\n",
    "    output_code = re.sub(anim_buttons_pattern, '', input_code)\n",
    "    return output_code\n",
    "\n",
    "def remove_form(input_code):\n",
    "    # Modèle de recherche pour les balises anim-state\n",
    "    anim_state_pattern = re.compile(r'<form.*?</form>', re.DOTALL)\n",
    "    # Suppression du contenu des balises anim-state\n",
    "    output_code = re.sub(anim_state_pattern, '', input_code)\n",
    "    return output_code\n",
    "\n",
    "def process_file(file_name):\n",
    "    # Lecture du contenu du fichier\n",
    "    with open(file_name, 'r') as file:\n",
    "        input_code = file.read()\n",
    "\n",
    "    # Suppression du contenu des balises anim-buttons\n",
    "    output_code = remove_anim_buttons(input_code)\n",
    "    # Suppression du contenu des balises anim-state\n",
    "    output_code = remove_form(output_code)\n",
    "\n",
    "    # Écriture du code converti dans le fichier\n",
    "    with open(file_name, 'w') as file:\n",
    "        file.write(output_code)"
   ]
  },
  {
   "cell_type": "code",
   "execution_count": null,
   "metadata": {},
   "outputs": [],
   "source": [
    "file_name = \"evolution_mer_de_glace_1_5.html\"\n",
    "process_file(file_name)"
   ]
  }
 ],
 "metadata": {
  "language_info": {
   "name": "python"
  }
 },
 "nbformat": 4,
 "nbformat_minor": 2
}
