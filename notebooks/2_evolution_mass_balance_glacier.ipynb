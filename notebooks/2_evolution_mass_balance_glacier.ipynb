{
 "cells": [
  {
   "cell_type": "code",
   "execution_count": 7,
   "metadata": {},
   "outputs": [],
   "source": [
    "from oggm import utils\n",
    "import geopandas as gpd\n",
    "from oggm import cfg\n",
    "from oggm import tasks, utils, workflow, graphics, DEFAULT_BASE_URL, global_task\n",
    "import xarray as xr\n",
    "import matplotlib.pyplot as plt\n",
    "from oggm.global_tasks import compile_fixed_geometry_mass_balance\n",
    "import pandas as pd\n"
   ]
  },
  {
   "cell_type": "code",
   "execution_count": 8,
   "metadata": {},
   "outputs": [],
   "source": [
    "def mass_balance_over_time(glacier_name = 'RGI60-15.03473', moyenne_annees = \"10Y\"):    \n",
    "    # Initialize OGGM and set up the default run parameters\n",
    "    cfg.initialize(logging_level='WARNING')\n",
    "\n",
    "    # Local working directory (where OGGM will write its output)\n",
    "    # WORKING_DIR = utils.gettempdir('OGGM_distr4')\n",
    "    cfg.PATHS['working_dir'] = utils.get_temp_dir('OGGM_distributed', reset=True)\n",
    "\n",
    "    rgi_ids = [glacier_name]  # This is Aletsch\n",
    "    gdir = workflow.init_glacier_directories(rgi_ids, prepro_base_url=DEFAULT_BASE_URL, from_prepro_level=4, prepro_border=80)[0]\n",
    "\n",
    "\n",
    "\n",
    "    donnees = compile_fixed_geometry_mass_balance(gdir)\n",
    "    # Créer un DataFrame à partir des données fournies\n",
    "    donnees = pd.DataFrame({\n",
    "        'annee': [i for i in range(1901, 2020)],\n",
    "        'donnees': donnees[\"RGI60-15.03473\"]\n",
    "    })\n",
    "\n",
    "    # Convertir la colonne 'annee' en type de données datetime\n",
    "    donnees['annee'] = pd.to_datetime(donnees['annee'], format='%Y')\n",
    "\n",
    "    # Définir la colonne 'annee' comme index\n",
    "    donnees = donnees.set_index('annee')\n",
    "\n",
    "    # Calculer la moyenne sur une période de 5 ans\n",
    "    moyenne_5_ans = donnees['donnees'].resample(moyenne_annees).mean()\n",
    "\n",
    "    # Afficher le DataFrame avec la moyenne tous les 5 ans\n",
    "    plt.plot(moyenne_5_ans)\n",
    "\n",
    "    print(moyenne_5_ans)\n"
   ]
  },
  {
   "cell_type": "code",
   "execution_count": 9,
   "metadata": {},
   "outputs": [
    {
     "name": "stderr",
     "output_type": "stream",
     "text": [
      "2024-05-03 08:44:40: oggm.cfg: Reading default parameters from the OGGM `params.cfg` configuration file.\n",
      "2024-05-03 08:44:40: oggm.cfg: Multiprocessing switched OFF according to the parameter file.\n",
      "2024-05-03 08:44:40: oggm.cfg: Multiprocessing: using all available processors (N=16)\n",
      "2024-05-03 08:44:41: oggm.workflow: init_glacier_directories from prepro level 4 on 1 glaciers.\n",
      "2024-05-03 08:44:41: oggm.workflow: Execute entity tasks [gdir_from_prepro] on 1 glaciers\n"
     ]
    },
    {
     "ename": "KeyError",
     "evalue": "\"filename 'RGI60-15.03\\\\\\\\RGI60-15.03473.tar.gz' not found\"",
     "output_type": "error",
     "traceback": [
      "\u001b[1;31m---------------------------------------------------------------------------\u001b[0m",
      "\u001b[1;31mKeyError\u001b[0m                                  Traceback (most recent call last)",
      "Cell \u001b[1;32mIn[9], line 1\u001b[0m\n\u001b[1;32m----> 1\u001b[0m \u001b[43mmass_balance_over_time\u001b[49m\u001b[43m(\u001b[49m\u001b[43m)\u001b[49m\n",
      "Cell \u001b[1;32mIn[8], line 10\u001b[0m, in \u001b[0;36mmass_balance_over_time\u001b[1;34m(glacier_name, moyenne_annees)\u001b[0m\n\u001b[0;32m      7\u001b[0m cfg\u001b[38;5;241m.\u001b[39mPATHS[\u001b[38;5;124m'\u001b[39m\u001b[38;5;124mworking_dir\u001b[39m\u001b[38;5;124m'\u001b[39m] \u001b[38;5;241m=\u001b[39m utils\u001b[38;5;241m.\u001b[39mget_temp_dir(\u001b[38;5;124m'\u001b[39m\u001b[38;5;124mOGGM_distributed\u001b[39m\u001b[38;5;124m'\u001b[39m, reset\u001b[38;5;241m=\u001b[39m\u001b[38;5;28;01mTrue\u001b[39;00m)\n\u001b[0;32m      9\u001b[0m rgi_ids \u001b[38;5;241m=\u001b[39m [glacier_name]  \u001b[38;5;66;03m# This is Aletsch\u001b[39;00m\n\u001b[1;32m---> 10\u001b[0m gdir \u001b[38;5;241m=\u001b[39m \u001b[43mworkflow\u001b[49m\u001b[38;5;241;43m.\u001b[39;49m\u001b[43minit_glacier_directories\u001b[49m\u001b[43m(\u001b[49m\u001b[43mrgi_ids\u001b[49m\u001b[43m,\u001b[49m\u001b[43m \u001b[49m\u001b[43mprepro_base_url\u001b[49m\u001b[38;5;241;43m=\u001b[39;49m\u001b[43mDEFAULT_BASE_URL\u001b[49m\u001b[43m,\u001b[49m\u001b[43m \u001b[49m\u001b[43mfrom_prepro_level\u001b[49m\u001b[38;5;241;43m=\u001b[39;49m\u001b[38;5;241;43m4\u001b[39;49m\u001b[43m,\u001b[49m\u001b[43m \u001b[49m\u001b[43mprepro_border\u001b[49m\u001b[38;5;241;43m=\u001b[39;49m\u001b[38;5;241;43m80\u001b[39;49m\u001b[43m)\u001b[49m[\u001b[38;5;241m0\u001b[39m]\n\u001b[0;32m     14\u001b[0m donnees \u001b[38;5;241m=\u001b[39m compile_fixed_geometry_mass_balance(gdir)\n\u001b[0;32m     15\u001b[0m \u001b[38;5;66;03m# Créer un DataFrame à partir des données fournies\u001b[39;00m\n",
      "File \u001b[1;32mc:\\Users\\billy\\Documents\\IF\\3A-4A\\S2\\smart24\\oggm_venv\\Lib\\site-packages\\oggm\\workflow.py:426\u001b[0m, in \u001b[0;36minit_glacier_directories\u001b[1;34m(rgidf, reset, force, from_prepro_level, prepro_border, prepro_rgi_version, prepro_base_url, from_tar, delete_tar)\u001b[0m\n\u001b[0;32m    424\u001b[0m     \u001b[38;5;28;01mif\u001b[39;00m cfg\u001b[38;5;241m.\u001b[39mPARAMS[\u001b[38;5;124m'\u001b[39m\u001b[38;5;124mdl_verify\u001b[39m\u001b[38;5;124m'\u001b[39m]:\n\u001b[0;32m    425\u001b[0m         utils\u001b[38;5;241m.\u001b[39mget_dl_verify_data(\u001b[38;5;124m'\u001b[39m\u001b[38;5;124mcluster.klima.uni-bremen.de\u001b[39m\u001b[38;5;124m'\u001b[39m)\n\u001b[1;32m--> 426\u001b[0m     gdirs \u001b[38;5;241m=\u001b[39m \u001b[43mexecute_entity_task\u001b[49m\u001b[43m(\u001b[49m\u001b[43mgdir_from_prepro\u001b[49m\u001b[43m,\u001b[49m\u001b[43m \u001b[49m\u001b[43mentities\u001b[49m\u001b[43m,\u001b[49m\n\u001b[0;32m    427\u001b[0m \u001b[43m                                \u001b[49m\u001b[43mfrom_prepro_level\u001b[49m\u001b[38;5;241;43m=\u001b[39;49m\u001b[43mfrom_prepro_level\u001b[49m\u001b[43m,\u001b[49m\n\u001b[0;32m    428\u001b[0m \u001b[43m                                \u001b[49m\u001b[43mprepro_border\u001b[49m\u001b[38;5;241;43m=\u001b[39;49m\u001b[43mprepro_border\u001b[49m\u001b[43m,\u001b[49m\n\u001b[0;32m    429\u001b[0m \u001b[43m                                \u001b[49m\u001b[43mprepro_rgi_version\u001b[49m\u001b[38;5;241;43m=\u001b[39;49m\u001b[43mprepro_rgi_version\u001b[49m\u001b[43m,\u001b[49m\n\u001b[0;32m    430\u001b[0m \u001b[43m                                \u001b[49m\u001b[43mbase_url\u001b[49m\u001b[38;5;241;43m=\u001b[39;49m\u001b[43mprepro_base_url\u001b[49m\u001b[43m)\u001b[49m\n\u001b[0;32m    431\u001b[0m \u001b[38;5;28;01melse\u001b[39;00m:\n\u001b[0;32m    432\u001b[0m     \u001b[38;5;66;03m# We can set the intersects file automatically here\u001b[39;00m\n\u001b[0;32m    433\u001b[0m     \u001b[38;5;28;01mif\u001b[39;00m (cfg\u001b[38;5;241m.\u001b[39mPARAMS[\u001b[38;5;124m'\u001b[39m\u001b[38;5;124muse_intersects\u001b[39m\u001b[38;5;124m'\u001b[39m] \u001b[38;5;129;01mand\u001b[39;00m\n\u001b[0;32m    434\u001b[0m             \u001b[38;5;28mlen\u001b[39m(cfg\u001b[38;5;241m.\u001b[39mPARAMS[\u001b[38;5;124m'\u001b[39m\u001b[38;5;124mintersects_gdf\u001b[39m\u001b[38;5;124m'\u001b[39m]) \u001b[38;5;241m==\u001b[39m \u001b[38;5;241m0\u001b[39m \u001b[38;5;129;01mand\u001b[39;00m\n\u001b[0;32m    435\u001b[0m             \u001b[38;5;129;01mnot\u001b[39;00m from_tar):\n",
      "File \u001b[1;32mc:\\Users\\billy\\Documents\\IF\\3A-4A\\S2\\smart24\\oggm_venv\\Lib\\site-packages\\oggm\\workflow.py:191\u001b[0m, in \u001b[0;36mexecute_entity_task\u001b[1;34m(task, gdirs, **kwargs)\u001b[0m\n\u001b[0;32m    187\u001b[0m     \u001b[38;5;28;01mif\u001b[39;00m ng \u001b[38;5;241m>\u001b[39m \u001b[38;5;241m3\u001b[39m:\n\u001b[0;32m    188\u001b[0m         log\u001b[38;5;241m.\u001b[39mworkflow(\u001b[38;5;124m'\u001b[39m\u001b[38;5;124mWARNING: you are trying to run an entity task on \u001b[39m\u001b[38;5;124m'\u001b[39m\n\u001b[0;32m    189\u001b[0m                      \u001b[38;5;124m'\u001b[39m\u001b[38;5;132;01m%d\u001b[39;00m\u001b[38;5;124m glaciers with multiprocessing turned off. OGGM \u001b[39m\u001b[38;5;124m'\u001b[39m\n\u001b[0;32m    190\u001b[0m                      \u001b[38;5;124m'\u001b[39m\u001b[38;5;124mwill run faster with multiprocessing turned on.\u001b[39m\u001b[38;5;124m'\u001b[39m, ng)\n\u001b[1;32m--> 191\u001b[0m     out \u001b[38;5;241m=\u001b[39m [\u001b[43mpc\u001b[49m\u001b[43m(\u001b[49m\u001b[43mgdir\u001b[49m\u001b[43m)\u001b[49m \u001b[38;5;28;01mfor\u001b[39;00m gdir \u001b[38;5;129;01min\u001b[39;00m gdirs]\n\u001b[0;32m    193\u001b[0m \u001b[38;5;28;01mreturn\u001b[39;00m out\n",
      "File \u001b[1;32mc:\\Users\\billy\\Documents\\IF\\3A-4A\\S2\\smart24\\oggm_venv\\Lib\\site-packages\\oggm\\workflow.py:108\u001b[0m, in \u001b[0;36m_pickle_copier.__call__\u001b[1;34m(self, arg)\u001b[0m\n\u001b[0;32m    106\u001b[0m \u001b[38;5;28;01mfor\u001b[39;00m func \u001b[38;5;129;01min\u001b[39;00m \u001b[38;5;28mself\u001b[39m\u001b[38;5;241m.\u001b[39mcall_func:\n\u001b[0;32m    107\u001b[0m     func, kwargs \u001b[38;5;241m=\u001b[39m func\n\u001b[1;32m--> 108\u001b[0m     res \u001b[38;5;241m=\u001b[39m \u001b[38;5;28;43mself\u001b[39;49m\u001b[38;5;241;43m.\u001b[39;49m\u001b[43m_call_internal\u001b[49m\u001b[43m(\u001b[49m\u001b[43mfunc\u001b[49m\u001b[43m,\u001b[49m\u001b[43m \u001b[49m\u001b[43marg\u001b[49m\u001b[43m,\u001b[49m\u001b[43m \u001b[49m\u001b[43mkwargs\u001b[49m\u001b[43m)\u001b[49m\n\u001b[0;32m    109\u001b[0m \u001b[38;5;28;01mreturn\u001b[39;00m res\n",
      "File \u001b[1;32mc:\\Users\\billy\\Documents\\IF\\3A-4A\\S2\\smart24\\oggm_venv\\Lib\\site-packages\\oggm\\workflow.py:102\u001b[0m, in \u001b[0;36m_pickle_copier._call_internal\u001b[1;34m(self, call_func, gdir, kwargs)\u001b[0m\n\u001b[0;32m     99\u001b[0m     gdir, gdir_kwargs \u001b[38;5;241m=\u001b[39m gdir\n\u001b[0;32m    100\u001b[0m     kwargs\u001b[38;5;241m.\u001b[39mupdate(gdir_kwargs)\n\u001b[1;32m--> 102\u001b[0m \u001b[38;5;28;01mreturn\u001b[39;00m \u001b[43mcall_func\u001b[49m\u001b[43m(\u001b[49m\u001b[43mgdir\u001b[49m\u001b[43m,\u001b[49m\u001b[43m \u001b[49m\u001b[38;5;241;43m*\u001b[39;49m\u001b[38;5;241;43m*\u001b[39;49m\u001b[43mkwargs\u001b[49m\u001b[43m)\u001b[49m\n",
      "File \u001b[1;32mc:\\Users\\billy\\Documents\\IF\\3A-4A\\S2\\smart24\\oggm_venv\\Lib\\site-packages\\oggm\\workflow.py:255\u001b[0m, in \u001b[0;36mgdir_from_prepro\u001b[1;34m(entity, from_prepro_level, prepro_border, prepro_rgi_version, base_url)\u001b[0m\n\u001b[0;32m    252\u001b[0m tar_base \u001b[38;5;241m=\u001b[39m utils\u001b[38;5;241m.\u001b[39mget_prepro_gdir(prepro_rgi_version, rid, prepro_border,\n\u001b[0;32m    253\u001b[0m                                  from_prepro_level, base_url\u001b[38;5;241m=\u001b[39mbase_url)\n\u001b[0;32m    254\u001b[0m from_tar \u001b[38;5;241m=\u001b[39m os\u001b[38;5;241m.\u001b[39mpath\u001b[38;5;241m.\u001b[39mjoin(tar_base\u001b[38;5;241m.\u001b[39mreplace(\u001b[38;5;124m'\u001b[39m\u001b[38;5;124m.tar\u001b[39m\u001b[38;5;124m'\u001b[39m, \u001b[38;5;124m'\u001b[39m\u001b[38;5;124m'\u001b[39m), rid \u001b[38;5;241m+\u001b[39m \u001b[38;5;124m'\u001b[39m\u001b[38;5;124m.tar.gz\u001b[39m\u001b[38;5;124m'\u001b[39m)\n\u001b[1;32m--> 255\u001b[0m \u001b[38;5;28;01mreturn\u001b[39;00m \u001b[43moggm\u001b[49m\u001b[38;5;241;43m.\u001b[39;49m\u001b[43mGlacierDirectory\u001b[49m\u001b[43m(\u001b[49m\u001b[43mentity\u001b[49m\u001b[43m,\u001b[49m\u001b[43m \u001b[49m\u001b[43mfrom_tar\u001b[49m\u001b[38;5;241;43m=\u001b[39;49m\u001b[43mfrom_tar\u001b[49m\u001b[43m)\u001b[49m\n",
      "File \u001b[1;32mc:\\Users\\billy\\Documents\\IF\\3A-4A\\S2\\smart24\\oggm_venv\\Lib\\site-packages\\oggm\\utils\\_workflow.py:2640\u001b[0m, in \u001b[0;36mGlacierDirectory.__init__\u001b[1;34m(self, rgi_entity, base_dir, reset, from_tar, delete_tar)\u001b[0m\n\u001b[0;32m   2638\u001b[0m \u001b[38;5;28;01mif\u001b[39;00m from_tar \u001b[38;5;129;01mis\u001b[39;00m \u001b[38;5;28;01mTrue\u001b[39;00m:\n\u001b[0;32m   2639\u001b[0m     from_tar \u001b[38;5;241m=\u001b[39m _dir \u001b[38;5;241m+\u001b[39m \u001b[38;5;124m'\u001b[39m\u001b[38;5;124m.tar.gz\u001b[39m\u001b[38;5;124m'\u001b[39m\n\u001b[1;32m-> 2640\u001b[0m \u001b[43mrobust_tar_extract\u001b[49m\u001b[43m(\u001b[49m\u001b[43mfrom_tar\u001b[49m\u001b[43m,\u001b[49m\u001b[43m \u001b[49m\u001b[43m_dir\u001b[49m\u001b[43m,\u001b[49m\u001b[43m \u001b[49m\u001b[43mdelete_tar\u001b[49m\u001b[38;5;241;43m=\u001b[39;49m\u001b[43mdelete_tar\u001b[49m\u001b[43m)\u001b[49m\n\u001b[0;32m   2641\u001b[0m from_tar \u001b[38;5;241m=\u001b[39m \u001b[38;5;28;01mFalse\u001b[39;00m  \u001b[38;5;66;03m# to not re-unpack later below\u001b[39;00m\n\u001b[0;32m   2642\u001b[0m _shp \u001b[38;5;241m=\u001b[39m os\u001b[38;5;241m.\u001b[39mpath\u001b[38;5;241m.\u001b[39mjoin(_dir, \u001b[38;5;124m'\u001b[39m\u001b[38;5;124moutlines.shp\u001b[39m\u001b[38;5;124m'\u001b[39m)\n",
      "File \u001b[1;32mc:\\Users\\billy\\Documents\\IF\\3A-4A\\S2\\smart24\\oggm_venv\\Lib\\site-packages\\oggm\\utils\\_workflow.py:2525\u001b[0m, in \u001b[0;36mrobust_tar_extract\u001b[1;34m(from_tar, to_dir, delete_tar)\u001b[0m\n\u001b[0;32m   2522\u001b[0m             \u001b[38;5;28;01mwith\u001b[39;00m tf\u001b[38;5;241m.\u001b[39mextractfile(i_from_tar) \u001b[38;5;28;01mas\u001b[39;00m fileobj:\n\u001b[0;32m   2523\u001b[0m                 _robust_extract(to_dir, fileobj\u001b[38;5;241m=\u001b[39mfileobj)\n\u001b[1;32m-> 2525\u001b[0m     \u001b[43m_back_up_retry\u001b[49m\u001b[43m(\u001b[49m\u001b[43mfunc\u001b[49m\u001b[43m,\u001b[49m\u001b[43m \u001b[49m\u001b[38;5;167;43;01mRuntimeError\u001b[39;49;00m\u001b[43m)\u001b[49m\n\u001b[0;32m   2527\u001b[0m \u001b[38;5;28;01mif\u001b[39;00m delete_tar:\n\u001b[0;32m   2528\u001b[0m     os\u001b[38;5;241m.\u001b[39mremove(from_tar)\n",
      "File \u001b[1;32mc:\\Users\\billy\\Documents\\IF\\3A-4A\\S2\\smart24\\oggm_venv\\Lib\\site-packages\\oggm\\utils\\_workflow.py:2480\u001b[0m, in \u001b[0;36m_back_up_retry\u001b[1;34m(func, exceptions, max_count)\u001b[0m\n\u001b[0;32m   2478\u001b[0m     \u001b[38;5;28;01mif\u001b[39;00m count \u001b[38;5;241m>\u001b[39m \u001b[38;5;241m0\u001b[39m:\n\u001b[0;32m   2479\u001b[0m         time\u001b[38;5;241m.\u001b[39msleep(random\u001b[38;5;241m.\u001b[39muniform(\u001b[38;5;241m0.05\u001b[39m, \u001b[38;5;241m0.1\u001b[39m))\n\u001b[1;32m-> 2480\u001b[0m     \u001b[38;5;28;01mreturn\u001b[39;00m \u001b[43mfunc\u001b[49m\u001b[43m(\u001b[49m\u001b[43m)\u001b[49m\n\u001b[0;32m   2481\u001b[0m \u001b[38;5;28;01mexcept\u001b[39;00m exceptions:\n\u001b[0;32m   2482\u001b[0m     count \u001b[38;5;241m+\u001b[39m\u001b[38;5;241m=\u001b[39m \u001b[38;5;241m1\u001b[39m\n",
      "File \u001b[1;32mc:\\Users\\billy\\Documents\\IF\\3A-4A\\S2\\smart24\\oggm_venv\\Lib\\site-packages\\oggm\\utils\\_workflow.py:2521\u001b[0m, in \u001b[0;36mrobust_tar_extract.<locals>.func\u001b[1;34m()\u001b[0m\n\u001b[0;32m   2519\u001b[0m \u001b[38;5;28;01mdef\u001b[39;00m \u001b[38;5;21mfunc\u001b[39m():\n\u001b[0;32m   2520\u001b[0m     \u001b[38;5;28;01mwith\u001b[39;00m tarfile\u001b[38;5;241m.\u001b[39mopen(base_tar, \u001b[38;5;124m'\u001b[39m\u001b[38;5;124mr\u001b[39m\u001b[38;5;124m'\u001b[39m) \u001b[38;5;28;01mas\u001b[39;00m tf:\n\u001b[1;32m-> 2521\u001b[0m         i_from_tar \u001b[38;5;241m=\u001b[39m \u001b[43mtf\u001b[49m\u001b[38;5;241;43m.\u001b[39;49m\u001b[43mgetmember\u001b[49m\u001b[43m(\u001b[49m\u001b[43mos\u001b[49m\u001b[38;5;241;43m.\u001b[39;49m\u001b[43mpath\u001b[49m\u001b[38;5;241;43m.\u001b[39;49m\u001b[43mjoin\u001b[49m\u001b[43m(\u001b[49m\u001b[43mdirbname\u001b[49m\u001b[43m,\u001b[49m\u001b[43m \u001b[49m\u001b[43mbname\u001b[49m\u001b[43m)\u001b[49m\u001b[43m)\u001b[49m\n\u001b[0;32m   2522\u001b[0m         \u001b[38;5;28;01mwith\u001b[39;00m tf\u001b[38;5;241m.\u001b[39mextractfile(i_from_tar) \u001b[38;5;28;01mas\u001b[39;00m fileobj:\n\u001b[0;32m   2523\u001b[0m             _robust_extract(to_dir, fileobj\u001b[38;5;241m=\u001b[39mfileobj)\n",
      "File \u001b[1;32mC:\\Python312\\Lib\\tarfile.py:1985\u001b[0m, in \u001b[0;36mTarFile.getmember\u001b[1;34m(self, name)\u001b[0m\n\u001b[0;32m   1983\u001b[0m tarinfo \u001b[38;5;241m=\u001b[39m \u001b[38;5;28mself\u001b[39m\u001b[38;5;241m.\u001b[39m_getmember(name\u001b[38;5;241m.\u001b[39mrstrip(\u001b[38;5;124m'\u001b[39m\u001b[38;5;124m/\u001b[39m\u001b[38;5;124m'\u001b[39m))\n\u001b[0;32m   1984\u001b[0m \u001b[38;5;28;01mif\u001b[39;00m tarinfo \u001b[38;5;129;01mis\u001b[39;00m \u001b[38;5;28;01mNone\u001b[39;00m:\n\u001b[1;32m-> 1985\u001b[0m     \u001b[38;5;28;01mraise\u001b[39;00m \u001b[38;5;167;01mKeyError\u001b[39;00m(\u001b[38;5;124m\"\u001b[39m\u001b[38;5;124mfilename \u001b[39m\u001b[38;5;132;01m%r\u001b[39;00m\u001b[38;5;124m not found\u001b[39m\u001b[38;5;124m\"\u001b[39m \u001b[38;5;241m%\u001b[39m name)\n\u001b[0;32m   1986\u001b[0m \u001b[38;5;28;01mreturn\u001b[39;00m tarinfo\n",
      "\u001b[1;31mKeyError\u001b[0m: \"filename 'RGI60-15.03\\\\\\\\RGI60-15.03473.tar.gz' not found\""
     ]
    }
   ],
   "source": [
    "mass_balance_over_time()"
   ]
  }
 ],
 "metadata": {
  "kernelspec": {
   "display_name": "oggm_env",
   "language": "python",
   "name": "python3"
  },
  "language_info": {
   "codemirror_mode": {
    "name": "ipython",
    "version": 3
   },
   "file_extension": ".py",
   "mimetype": "text/x-python",
   "name": "python",
   "nbconvert_exporter": "python",
   "pygments_lexer": "ipython3",
   "version": "3.12.3"
  }
 },
 "nbformat": 4,
 "nbformat_minor": 2
}
