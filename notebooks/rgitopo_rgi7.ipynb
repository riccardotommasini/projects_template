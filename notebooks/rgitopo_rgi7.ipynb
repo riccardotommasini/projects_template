{
 "cells": [
  {
   "cell_type": "markdown",
   "metadata": {},
   "source": [
    "# RGI-TOPO for RGI 7.0"
   ]
  },
  {
   "cell_type": "markdown",
   "metadata": {},
   "source": [
    "OGGM was used to generate the topography data used to compute the topographical attributes and the centerlines products for RGI v7.0.\n",
    "\n",
    "Here we show how to access this data from OGGM."
   ]
  },
  {
   "cell_type": "markdown",
   "metadata": {},
   "source": [
    "## Input parameters "
   ]
  },
  {
   "cell_type": "markdown",
   "metadata": {},
   "source": [
    "This notebook can be run as a script with parameters using [papermill](https://github.com/nteract/papermill), but it is not necessary. The following cell contains the parameters you can choose from:"
   ]
  },
  {
   "cell_type": "code",
   "execution_count": 1,
   "metadata": {
    "papermill": {
     "duration": 0.017019,
     "end_time": "2019-05-02T12:29:41.613572",
     "exception": false,
     "start_time": "2019-05-02T12:29:41.596553",
     "status": "completed"
    },
    "tags": [
     "parameters"
    ]
   },
   "outputs": [],
   "source": [
    "# The RGI Id of the glaciers you want to look for\n",
    "# Use the original shapefiles or the GLIMS viewer to check for the ID: https://www.glims.org/maps/glims\n",
    "rgi_id = 'RGI2000-v7.0-G-01-06486'  # Denali\n",
    "\n",
    "# The default is to test for all sources available for this glacier\n",
    "# Set to a list of source names to override this\n",
    "sources = None\n",
    "# Where to write the plots. Default is in the current working directory\n",
    "plot_dir = f'outputs/{rgi_id}'\n",
    "# The RGI version to use\n",
    "# V62 is an unofficial modification of V6 with only minor, backwards compatible modifications\n",
    "prepro_rgi_version = 62\n",
    "# Size of the map around the glacier. Currently only 10 and 40 are available\n",
    "prepro_border = 10\n",
    "# Degree of processing level.  Currently only 1 is available.\n",
    "from_prepro_level = 1"
   ]
  },
  {
   "cell_type": "markdown",
   "metadata": {},
   "source": [
    "## Check input and set up"
   ]
  },
  {
   "cell_type": "code",
   "execution_count": 2,
   "metadata": {
    "papermill": {
     "duration": 0.015677,
     "end_time": "2019-05-02T12:29:41.666761",
     "exception": false,
     "start_time": "2019-05-02T12:29:41.651084",
     "status": "completed"
    },
    "tags": []
   },
   "outputs": [],
   "source": [
    "# The sources can be given as parameters\n",
    "if sources is not None and isinstance(sources, str):\n",
    "    sources = sources.split(',')"
   ]
  },
  {
   "cell_type": "code",
   "execution_count": 3,
   "metadata": {
    "papermill": {
     "duration": 0.015098,
     "end_time": "2019-05-02T12:29:41.691832",
     "exception": false,
     "start_time": "2019-05-02T12:29:41.676734",
     "status": "completed"
    },
    "tags": []
   },
   "outputs": [],
   "source": [
    "# Plotting directory as well\n",
    "if not plot_dir:\n",
    "    plot_dir = './' + rgi_id\n",
    "import os\n",
    "plot_dir = os.path.abspath(plot_dir)"
   ]
  },
  {
   "cell_type": "code",
   "execution_count": 6,
   "metadata": {
    "papermill": {
     "duration": 1.830809,
     "end_time": "2019-05-02T12:29:43.532252",
     "exception": false,
     "start_time": "2019-05-02T12:29:41.701443",
     "status": "completed"
    },
    "tags": []
   },
   "outputs": [],
   "source": [
    "from oggm import cfg, utils, workflow, tasks, graphics, GlacierDirectory\n",
    "import pandas as pd\n",
    "import numpy as np\n",
    "import xarray as xr\n",
    "import rioxarray as rioxr\n",
    "import geopandas as gpd\n",
    "import salem\n",
    "import matplotlib.pyplot as plt\n",
    "from mpl_toolkits.axes_grid1 import AxesGrid\n",
    "import itertools\n",
    "\n",
    "from oggm.utils import DEM_SOURCES\n",
    "from oggm.workflow import init_glacier_directories"
   ]
  },
  {
   "cell_type": "code",
   "execution_count": 7,
   "metadata": {
    "papermill": {
     "duration": 0.093459,
     "end_time": "2019-05-02T12:29:43.661588",
     "exception": false,
     "start_time": "2019-05-02T12:29:43.568129",
     "status": "completed"
    },
    "tags": []
   },
   "outputs": [
    {
     "name": "stderr",
     "output_type": "stream",
     "text": [
      "2024-04-30 11:13:04: oggm.cfg: Reading default parameters from the OGGM `params.cfg` configuration file.\n",
      "2024-04-30 11:13:04: oggm.cfg: Multiprocessing switched OFF according to the parameter file.\n",
      "2024-04-30 11:13:04: oggm.cfg: Multiprocessing: using all available processors (N=12)\n",
      "2024-04-30 11:13:07: oggm.cfg: PARAMS['use_intersects'] changed from `True` to `False`.\n"
     ]
    }
   ],
   "source": [
    "# Make sure the plot directory exists\n",
    "utils.mkdir(plot_dir);\n",
    "# Use OGGM to download the data\n",
    "cfg.initialize()\n",
    "cfg.PATHS['working_dir'] = utils.gettempdir(dirname='OGGM-RGITOPO-RGI7', reset=True)\n",
    "cfg.PARAMS['use_intersects'] = False"
   ]
  },
  {
   "cell_type": "markdown",
   "metadata": {},
   "source": [
    "## Download the data using OGGM utility functions "
   ]
  },
  {
   "cell_type": "markdown",
   "metadata": {},
   "source": [
    "Note that you could reach the same goal by downloading the data manually from "
   ]
  },
  {
   "cell_type": "code",
   "execution_count": 8,
   "metadata": {},
   "outputs": [
    {
     "name": "stderr",
     "output_type": "stream",
     "text": [
      "2024-04-30 11:13:07: oggm.workflow: init_glacier_directories from prepro level 1 on 1 glaciers.\n",
      "2024-04-30 11:13:07: oggm.workflow: Execute entity tasks [gdir_from_prepro] on 1 glaciers\n",
      "2024-04-30 11:13:07: oggm.utils: Downloading https://cluster.klima.uni-bremen.de/~oggm/gdirs/oggm_v1.6/rgitopo/2023.1/RGI70/b_010/L1/RGI2000-v7.0-G-01/RGI2000-v7.0-G-01-06.tar to /home/leadu/OGGM/download_cache/cluster.klima.uni-bremen.de/~oggm/gdirs/oggm_v1.6/rgitopo/2023.1/RGI70/b_010/L1/RGI2000-v7.0-G-01/RGI2000-v7.0-G-01-06.tar...\n",
      "2024-04-30 11:13:13: oggm.utils: Downloading https://cluster.klima.uni-bremen.de/~fmaussion/misc/rgi7_data/00_rgi70_regions/00_rgi70_O1Regions/00_rgi70_O1Regions.dbf to /home/leadu/OGGM/download_cache/cluster.klima.uni-bremen.de/~fmaussion/misc/rgi7_data/00_rgi70_regions/00_rgi70_O1Regions/00_rgi70_O1Regions.dbf...\n",
      "2024-04-30 11:13:14: oggm.utils: Downloading https://cluster.klima.uni-bremen.de/~fmaussion/misc/rgi7_data/00_rgi70_regions/00_rgi70_O2Regions/00_rgi70_O2Regions.dbf to /home/leadu/OGGM/download_cache/cluster.klima.uni-bremen.de/~fmaussion/misc/rgi7_data/00_rgi70_regions/00_rgi70_O2Regions/00_rgi70_O2Regions.dbf...\n"
     ]
    }
   ],
   "source": [
    "# URL of the preprocessed GDirs\n",
    "gdir_url = 'https://cluster.klima.uni-bremen.de/~oggm/gdirs/oggm_v1.6/rgitopo/2023.1/'\n",
    "# We use OGGM to download the data\n",
    "gdir = init_glacier_directories([rgi_id], from_prepro_level=1, prepro_border=10,  prepro_rgi_version='70', prepro_base_url=gdir_url)[0]"
   ]
  },
  {
   "cell_type": "code",
   "execution_count": 9,
   "metadata": {
    "tags": []
   },
   "outputs": [
    {
     "data": {
      "text/plain": [
       "<oggm.GlacierDirectory>\n",
       "  RGI id: RGI2000-v7.0-G-01-06486\n",
       "  Region: 01: Alaska\n",
       "  Subregion: 01-02: Alaska Range (Wrangell/Kilbuck)\n",
       "  Glacier type: Glacier\n",
       "  Terminus type: Land-terminating\n",
       "  Status: Glacier or ice cap\n",
       "  Area: 0.961122833004822 km2\n",
       "  Lon, Lat: (-151.0094740399913, 63.061062)\n",
       "  Grid (nx, ny): (70, 88)\n",
       "  Grid (dx, dy): (24.0, -24.0)"
      ]
     },
     "execution_count": 9,
     "metadata": {},
     "output_type": "execute_result"
    }
   ],
   "source": [
    "gdir"
   ]
  },
  {
   "cell_type": "markdown",
   "metadata": {},
   "source": [
    "## Read the DEMs and store them all in a dataset "
   ]
  },
  {
   "cell_type": "code",
   "execution_count": 10,
   "metadata": {
    "papermill": {
     "duration": 0.028343,
     "end_time": "2019-05-02T12:29:44.137034",
     "exception": false,
     "start_time": "2019-05-02T12:29:44.108691",
     "status": "completed"
    },
    "tags": []
   },
   "outputs": [],
   "source": [
    "if sources is None:\n",
    "    sources = [src for src in os.listdir(gdir.dir) if src in utils.DEM_SOURCES]"
   ]
  },
  {
   "cell_type": "code",
   "execution_count": 11,
   "metadata": {
    "papermill": {
     "duration": 0.019044,
     "end_time": "2019-05-02T12:29:44.166408",
     "exception": false,
     "start_time": "2019-05-02T12:29:44.147364",
     "status": "completed"
    },
    "tags": []
   },
   "outputs": [
    {
     "name": "stdout",
     "output_type": "stream",
     "text": [
      "RGI ID: RGI2000-v7.0-G-01-06486\n",
      "Available DEM sources: ['COPDEM90', 'ARCTICDEM', 'MAPZEN', 'COPDEM30', 'ALASKA', 'TANDEM', 'ASTER', 'DEM3', 'AW3D30']\n",
      "Plotting directory: /mnt/c/Users/leadu/Documents/INSA/INSA_4A/PLD-SMART/smart24/notebooks/outputs/RGI2000-v7.0-G-01-06486\n"
     ]
    }
   ],
   "source": [
    "print('RGI ID:', rgi_id)\n",
    "print('Available DEM sources:', sources)\n",
    "print('Plotting directory:', plot_dir)"
   ]
  },
  {
   "cell_type": "code",
   "execution_count": 12,
   "metadata": {
    "papermill": {
     "duration": 0.081067,
     "end_time": "2019-05-02T12:30:18.702292",
     "exception": false,
     "start_time": "2019-05-02T12:30:18.621225",
     "status": "completed"
    },
    "tags": []
   },
   "outputs": [],
   "source": [
    "# We use xarray to store the data\n",
    "ods = xr.Dataset()\n",
    "for src in sources:\n",
    "    demfile = os.path.join(gdir.dir, src) + '/dem.tif'\n",
    "    with rioxr.open_rasterio(demfile) as ds:\n",
    "        data = ds.sel(band=1).load() * 1.\n",
    "        ods[src] = data.where(data > -100, np.NaN)\n",
    "    \n",
    "    sy, sx = np.gradient(ods[src], gdir.grid.dx, gdir.grid.dx)\n",
    "    ods[src + '_slope'] = ('y', 'x'),  np.arctan(np.sqrt(sy**2 + sx**2))\n",
    "\n",
    "with rioxr.open_rasterio(gdir.get_filepath('glacier_mask')) as ds:\n",
    "    ods['mask'] = ds.sel(band=1).load()"
   ]
  },
  {
   "cell_type": "code",
   "execution_count": 13,
   "metadata": {
    "papermill": {
     "duration": 0.0212,
     "end_time": "2019-05-02T12:30:18.877473",
     "exception": false,
     "start_time": "2019-05-02T12:30:18.856273",
     "status": "completed"
    },
    "tags": []
   },
   "outputs": [],
   "source": [
    "# Decide on the number of plots and figure size\n",
    "ns = len(sources)\n",
    "x_size = 12\n",
    "n_cols = 3\n",
    "n_rows = -(-ns // n_cols)\n",
    "y_size = x_size / n_cols * n_rows"
   ]
  },
  {
   "cell_type": "markdown",
   "metadata": {},
   "source": [
    "## Raw topography data "
   ]
  },
  {
   "cell_type": "code",
   "execution_count": 16,
   "metadata": {
    "papermill": {
     "duration": 3.510211,
     "end_time": "2019-05-02T12:30:22.402979",
     "exception": false,
     "start_time": "2019-05-02T12:30:18.892768",
     "status": "completed"
    },
    "tags": []
   },
   "outputs": [
    {
     "ename": "ImportError",
     "evalue": "Needs scikit-image to be installed.",
     "output_type": "error",
     "traceback": [
      "\u001b[0;31m---------------------------------------------------------------------------\u001b[0m",
      "\u001b[0;31mImportError\u001b[0m                               Traceback (most recent call last)",
      "Cell \u001b[0;32mIn[16], line 19\u001b[0m\n\u001b[1;32m     17\u001b[0m \u001b[38;5;28;01mfor\u001b[39;00m i, s \u001b[38;5;129;01min\u001b[39;00m \u001b[38;5;28menumerate\u001b[39m(sources):\n\u001b[1;32m     18\u001b[0m     data \u001b[38;5;241m=\u001b[39m ods[s]\n\u001b[0;32m---> 19\u001b[0m     \u001b[43msmap\u001b[49m\u001b[38;5;241;43m.\u001b[39;49m\u001b[43mset_data\u001b[49m\u001b[43m(\u001b[49m\u001b[43mdata\u001b[49m\u001b[43m)\u001b[49m\n\u001b[1;32m     20\u001b[0m     ax \u001b[38;5;241m=\u001b[39m grid[i]\n\u001b[1;32m     21\u001b[0m     smap\u001b[38;5;241m.\u001b[39mvisualize(ax\u001b[38;5;241m=\u001b[39max, addcbar\u001b[38;5;241m=\u001b[39m\u001b[38;5;28;01mFalse\u001b[39;00m, title\u001b[38;5;241m=\u001b[39ms)\n",
      "File \u001b[0;32m/mnt/c/Users/leadu/Documents/INSA/INSA_4A/PLD-SMART/smart24/env/lib/python3.10/site-packages/salem/graphics.py:565\u001b[0m, in \u001b[0;36mMap.set_data\u001b[0;34m(self, data, crs, interp, overplot)\u001b[0m\n\u001b[1;32m    563\u001b[0m     \u001b[38;5;28mself\u001b[39m\u001b[38;5;241m.\u001b[39mdata\u001b[38;5;241m.\u001b[39mmask \u001b[38;5;241m=\u001b[39m \u001b[38;5;28mself\u001b[39m\u001b[38;5;241m.\u001b[39mdata \u001b[38;5;241m+\u001b[39m \u001b[38;5;241m1\u001b[39m\n\u001b[1;32m    564\u001b[0m     \u001b[38;5;28;01mreturn\u001b[39;00m\n\u001b[0;32m--> 565\u001b[0m data \u001b[38;5;241m=\u001b[39m \u001b[38;5;28;43mself\u001b[39;49m\u001b[38;5;241;43m.\u001b[39;49m\u001b[43m_check_data\u001b[49m\u001b[43m(\u001b[49m\u001b[43mdata\u001b[49m\u001b[38;5;241;43m=\u001b[39;49m\u001b[43mdata\u001b[49m\u001b[43m,\u001b[49m\u001b[43m \u001b[49m\u001b[43mcrs\u001b[49m\u001b[38;5;241;43m=\u001b[39;49m\u001b[43mcrs\u001b[49m\u001b[43m,\u001b[49m\u001b[43m \u001b[49m\u001b[43minterp\u001b[49m\u001b[38;5;241;43m=\u001b[39;49m\u001b[43minterp\u001b[49m\u001b[43m,\u001b[49m\n\u001b[1;32m    566\u001b[0m \u001b[43m                        \u001b[49m\u001b[43moverplot\u001b[49m\u001b[38;5;241;43m=\u001b[39;49m\u001b[43moverplot\u001b[49m\u001b[43m)\u001b[49m\n\u001b[1;32m    567\u001b[0m DataLevels\u001b[38;5;241m.\u001b[39mset_data(\u001b[38;5;28mself\u001b[39m, data)\n",
      "File \u001b[0;32m/mnt/c/Users/leadu/Documents/INSA/INSA_4A/PLD-SMART/smart24/env/lib/python3.10/site-packages/salem/graphics.py:507\u001b[0m, in \u001b[0;36mMap._check_data\u001b[0;34m(self, data, crs, interp, overplot)\u001b[0m\n\u001b[1;32m    505\u001b[0m     interp \u001b[38;5;241m=\u001b[39m \u001b[38;5;241m3\u001b[39m\n\u001b[1;32m    506\u001b[0m \u001b[38;5;28;01mif\u001b[39;00m \u001b[38;5;129;01mnot\u001b[39;00m has_skimage:\n\u001b[0;32m--> 507\u001b[0m     \u001b[38;5;28;01mraise\u001b[39;00m \u001b[38;5;167;01mImportError\u001b[39;00m(\u001b[38;5;124m'\u001b[39m\u001b[38;5;124mNeeds scikit-image to be installed.\u001b[39m\u001b[38;5;124m'\u001b[39m)\n\u001b[1;32m    508\u001b[0m \u001b[38;5;28;01mwith\u001b[39;00m warnings\u001b[38;5;241m.\u001b[39mcatch_warnings():\n\u001b[1;32m    509\u001b[0m     mess \u001b[38;5;241m=\u001b[39m \u001b[38;5;124m\"\u001b[39m\u001b[38;5;124minvalid value encountered in reduce\u001b[39m\u001b[38;5;124m\"\u001b[39m\n",
      "\u001b[0;31mImportError\u001b[0m: Needs scikit-image to be installed."
     ]
    },
    {
     "data": {
      "image/png": "[encoded data removed]",
      "text/plain": [
       "<Figure size 1200x1200 with 18 Axes>"
      ]
     },
     "metadata": {},
     "output_type": "display_data"
    }
   ],
   "source": [
    "smap = salem.graphics.Map(gdir.grid, countries=False)\n",
    "smap.set_shapefile(gdir.read_shapefile('outlines'))\n",
    "smap.set_plot_params(cmap='topo')\n",
    "smap.set_lonlat_contours(add_tick_labels=False)\n",
    "smap.set_plot_params(vmin=np.nanquantile([ods[s].min() for s in sources], 0.25),\n",
    "                     vmax=np.nanquantile([ods[s].max() for s in sources], 0.75))\n",
    "\n",
    "fig = plt.figure(figsize=(x_size, y_size))\n",
    "grid = AxesGrid(fig, 111,\n",
    "                nrows_ncols=(n_rows, n_cols),\n",
    "                axes_pad=0.7,\n",
    "                cbar_mode='each',\n",
    "                cbar_location='right',\n",
    "                cbar_pad=0.1\n",
    "                )\n",
    "\n",
    "for i, s in enumerate(sources):\n",
    "    data = ods[s]\n",
    "    smap.set_data(data)\n",
    "    ax = grid[i]\n",
    "    smap.visualize(ax=ax, addcbar=False, title=s)\n",
    "    if np.isnan(data).all():\n",
    "        grid[i].cax.remove()\n",
    "        continue\n",
    "    cax = grid.cbar_axes[i]\n",
    "    smap.colorbarbase(cax)\n",
    "    \n",
    "# take care of uneven grids\n",
    "if ax != grid[-1] and not grid[-1].title.get_text():\n",
    "    grid[-1].remove()\n",
    "    grid[-1].cax.remove()\n",
    "if ax != grid[-2] and not grid[-2].title.get_text():\n",
    "    grid[-2].remove()\n",
    "    grid[-2].cax.remove()\n",
    "\n",
    "plt.savefig(os.path.join(plot_dir, 'dem_topo_color.png'), dpi=150, bbox_inches='tight')"
   ]
  },
  {
   "cell_type": "markdown",
   "metadata": {},
   "source": [
    "## Shaded relief "
   ]
  },
  {
   "cell_type": "code",
   "execution_count": 15,
   "metadata": {
    "papermill": {
     "duration": 3.282248,
     "end_time": "2019-05-02T12:30:25.712385",
     "exception": false,
     "start_time": "2019-05-02T12:30:22.430137",
     "status": "completed"
    },
    "tags": []
   },
   "outputs": [
    {
     "ename": "ImportError",
     "evalue": "Needs scikit-image to be installed.",
     "output_type": "error",
     "traceback": [
      "\u001b[0;31m---------------------------------------------------------------------------\u001b[0m",
      "\u001b[0;31mImportError\u001b[0m                               Traceback (most recent call last)",
      "Cell \u001b[0;32mIn[15], line 12\u001b[0m\n\u001b[1;32m     10\u001b[0m \u001b[38;5;28;01mfor\u001b[39;00m i, s \u001b[38;5;129;01min\u001b[39;00m \u001b[38;5;28menumerate\u001b[39m(sources):\n\u001b[1;32m     11\u001b[0m     data \u001b[38;5;241m=\u001b[39m ods[s]\u001b[38;5;241m.\u001b[39mcopy()\u001b[38;5;241m.\u001b[39mwhere(np\u001b[38;5;241m.\u001b[39misfinite(ods[s]), \u001b[38;5;241m0\u001b[39m)\n\u001b[0;32m---> 12\u001b[0m     \u001b[43msmap\u001b[49m\u001b[38;5;241;43m.\u001b[39;49m\u001b[43mset_data\u001b[49m\u001b[43m(\u001b[49m\u001b[43mdata\u001b[49m\u001b[43m \u001b[49m\u001b[38;5;241;43m*\u001b[39;49m\u001b[43m \u001b[49m\u001b[38;5;241;43m0\u001b[39;49m\u001b[43m)\u001b[49m\n\u001b[1;32m     13\u001b[0m     ax \u001b[38;5;241m=\u001b[39m grid[i]\n\u001b[1;32m     14\u001b[0m     smap\u001b[38;5;241m.\u001b[39mset_topography(data)\n",
      "File \u001b[0;32m/mnt/c/Users/leadu/Documents/INSA/INSA_4A/PLD-SMART/smart24/env/lib/python3.10/site-packages/salem/graphics.py:565\u001b[0m, in \u001b[0;36mMap.set_data\u001b[0;34m(self, data, crs, interp, overplot)\u001b[0m\n\u001b[1;32m    563\u001b[0m     \u001b[38;5;28mself\u001b[39m\u001b[38;5;241m.\u001b[39mdata\u001b[38;5;241m.\u001b[39mmask \u001b[38;5;241m=\u001b[39m \u001b[38;5;28mself\u001b[39m\u001b[38;5;241m.\u001b[39mdata \u001b[38;5;241m+\u001b[39m \u001b[38;5;241m1\u001b[39m\n\u001b[1;32m    564\u001b[0m     \u001b[38;5;28;01mreturn\u001b[39;00m\n\u001b[0;32m--> 565\u001b[0m data \u001b[38;5;241m=\u001b[39m \u001b[38;5;28;43mself\u001b[39;49m\u001b[38;5;241;43m.\u001b[39;49m\u001b[43m_check_data\u001b[49m\u001b[43m(\u001b[49m\u001b[43mdata\u001b[49m\u001b[38;5;241;43m=\u001b[39;49m\u001b[43mdata\u001b[49m\u001b[43m,\u001b[49m\u001b[43m \u001b[49m\u001b[43mcrs\u001b[49m\u001b[38;5;241;43m=\u001b[39;49m\u001b[43mcrs\u001b[49m\u001b[43m,\u001b[49m\u001b[43m \u001b[49m\u001b[43minterp\u001b[49m\u001b[38;5;241;43m=\u001b[39;49m\u001b[43minterp\u001b[49m\u001b[43m,\u001b[49m\n\u001b[1;32m    566\u001b[0m \u001b[43m                        \u001b[49m\u001b[43moverplot\u001b[49m\u001b[38;5;241;43m=\u001b[39;49m\u001b[43moverplot\u001b[49m\u001b[43m)\u001b[49m\n\u001b[1;32m    567\u001b[0m DataLevels\u001b[38;5;241m.\u001b[39mset_data(\u001b[38;5;28mself\u001b[39m, data)\n",
      "File \u001b[0;32m/mnt/c/Users/leadu/Documents/INSA/INSA_4A/PLD-SMART/smart24/env/lib/python3.10/site-packages/salem/graphics.py:507\u001b[0m, in \u001b[0;36mMap._check_data\u001b[0;34m(self, data, crs, interp, overplot)\u001b[0m\n\u001b[1;32m    505\u001b[0m     interp \u001b[38;5;241m=\u001b[39m \u001b[38;5;241m3\u001b[39m\n\u001b[1;32m    506\u001b[0m \u001b[38;5;28;01mif\u001b[39;00m \u001b[38;5;129;01mnot\u001b[39;00m has_skimage:\n\u001b[0;32m--> 507\u001b[0m     \u001b[38;5;28;01mraise\u001b[39;00m \u001b[38;5;167;01mImportError\u001b[39;00m(\u001b[38;5;124m'\u001b[39m\u001b[38;5;124mNeeds scikit-image to be installed.\u001b[39m\u001b[38;5;124m'\u001b[39m)\n\u001b[1;32m    508\u001b[0m \u001b[38;5;28;01mwith\u001b[39;00m warnings\u001b[38;5;241m.\u001b[39mcatch_warnings():\n\u001b[1;32m    509\u001b[0m     mess \u001b[38;5;241m=\u001b[39m \u001b[38;5;124m\"\u001b[39m\u001b[38;5;124minvalid value encountered in reduce\u001b[39m\u001b[38;5;124m\"\u001b[39m\n",
      "\u001b[0;31mImportError\u001b[0m: Needs scikit-image to be installed."
     ]
    },
    {
     "data": {
      "image/png": "[encoded data removed]",
      "text/plain": [
       "<Figure size 1200x1200 with 18 Axes>"
      ]
     },
     "metadata": {},
     "output_type": "display_data"
    }
   ],
   "source": [
    "fig = plt.figure(figsize=(x_size, y_size))\n",
    "grid = AxesGrid(fig, 111,\n",
    "                nrows_ncols=(n_rows, n_cols),\n",
    "                axes_pad=0.7,\n",
    "                cbar_location='right',\n",
    "                cbar_pad=0.1\n",
    "                )\n",
    "smap.set_plot_params(cmap='Blues')\n",
    "smap.set_shapefile()\n",
    "for i, s in enumerate(sources):\n",
    "    data = ods[s].copy().where(np.isfinite(ods[s]), 0)\n",
    "    smap.set_data(data * 0)\n",
    "    ax = grid[i]\n",
    "    smap.set_topography(data)\n",
    "    smap.visualize(ax=ax, addcbar=False, title=s)\n",
    "    \n",
    "# take care of uneven grids\n",
    "if ax != grid[-1] and not grid[-1].title.get_text():\n",
    "    grid[-1].remove()\n",
    "    grid[-1].cax.remove()\n",
    "if ax != grid[-2] and not grid[-2].title.get_text():\n",
    "    grid[-2].remove()\n",
    "    grid[-2].cax.remove()\n",
    "\n",
    "plt.savefig(os.path.join(plot_dir, 'dem_topo_shade.png'), dpi=150, bbox_inches='tight')"
   ]
  },
  {
   "cell_type": "markdown",
   "metadata": {},
   "source": [
    "## Slope "
   ]
  },
  {
   "cell_type": "code",
   "execution_count": null,
   "metadata": {},
   "outputs": [],
   "source": [
    "fig = plt.figure(figsize=(x_size, y_size))\n",
    "grid = AxesGrid(fig, 111,\n",
    "                nrows_ncols=(n_rows, n_cols),\n",
    "                axes_pad=0.7,\n",
    "                cbar_mode='each',\n",
    "                cbar_location='right',\n",
    "                cbar_pad=0.1\n",
    "                )\n",
    "\n",
    "smap.set_topography();\n",
    "smap.set_plot_params(vmin=0, vmax=0.7, cmap='Blues')\n",
    "\n",
    "for i, s in enumerate(sources):\n",
    "    data = ods[s + '_slope']\n",
    "    smap.set_data(data)\n",
    "    ax = grid[i]\n",
    "    smap.visualize(ax=ax, addcbar=False, title=s + ' (slope)')\n",
    "    cax = grid.cbar_axes[i]\n",
    "    smap.colorbarbase(cax)\n",
    "    \n",
    "# take care of uneven grids\n",
    "if ax != grid[-1] and not grid[-1].title.get_text():\n",
    "    grid[-1].remove()\n",
    "    grid[-1].cax.remove()\n",
    "if ax != grid[-2] and not grid[-2].title.get_text():\n",
    "    grid[-2].remove()\n",
    "    grid[-2].cax.remove()\n",
    "\n",
    "plt.savefig(os.path.join(plot_dir, 'dem_slope.png'), dpi=150, bbox_inches='tight')"
   ]
  },
  {
   "cell_type": "markdown",
   "metadata": {},
   "source": [
    "## Some simple statistics about the DEMs "
   ]
  },
  {
   "cell_type": "code",
   "execution_count": null,
   "metadata": {},
   "outputs": [],
   "source": [
    "df = pd.DataFrame()\n",
    "for s in sources:\n",
    "    df[s] = ods[s].data.flatten()[ods.mask.data.flatten() == 1]\n",
    "\n",
    "dfs = pd.DataFrame()\n",
    "for s in sources:\n",
    "    dfs[s] = ods[s + '_slope'].data.flatten()[ods.mask.data.flatten() == 1]"
   ]
  },
  {
   "cell_type": "code",
   "execution_count": null,
   "metadata": {},
   "outputs": [],
   "source": [
    "dfs = df.describe()\n",
    "dfs.loc['range'] = dfs.loc['max'] - dfs.loc['min']\n",
    "dfs"
   ]
  },
  {
   "cell_type": "markdown",
   "metadata": {},
   "source": [
    "## Comparison matrix plot "
   ]
  },
  {
   "cell_type": "code",
   "execution_count": null,
   "metadata": {},
   "outputs": [],
   "source": [
    "# Table of differences between DEMS\n",
    "df_diff = pd.DataFrame()\n",
    "done = []\n",
    "for s1, s2 in itertools.product(sources, sources):\n",
    "    if s1 == s2:\n",
    "        continue\n",
    "    if (s2, s1) in done:\n",
    "        continue\n",
    "    df_diff[s1 + '-' + s2] = df[s1] - df[s2]\n",
    "    done.append((s1, s2))"
   ]
  },
  {
   "cell_type": "code",
   "execution_count": null,
   "metadata": {},
   "outputs": [],
   "source": [
    "# Decide on plot levels\n",
    "max_diff = df_diff.quantile(0.99).max()\n",
    "base_levels = np.array([-8, -5, -3, -1.5, -1, -0.5, -0.2, -0.1, 0, 0.1, 0.2, 0.5, 1, 1.5, 3, 5, 8])\n",
    "if max_diff < 10:\n",
    "    levels = base_levels\n",
    "elif max_diff < 100:\n",
    "    levels = base_levels * 10\n",
    "elif max_diff < 1000:\n",
    "    levels = base_levels * 100\n",
    "else:\n",
    "    levels = base_levels * 1000\n",
    "levels = [l for l in levels if abs(l) < max_diff]\n",
    "if max_diff > 10:\n",
    "    levels = [int(l) for l in levels]\n",
    "levels"
   ]
  },
  {
   "cell_type": "code",
   "execution_count": null,
   "metadata": {
    "papermill": {
     "duration": 3.367876,
     "end_time": "2019-05-02T12:30:29.111637",
     "exception": false,
     "start_time": "2019-05-02T12:30:25.743761",
     "status": "completed"
    },
    "tags": []
   },
   "outputs": [],
   "source": [
    "smap.set_plot_params(levels=levels, cmap='PuOr', extend='both')\n",
    "smap.set_shapefile(gdir.read_shapefile('outlines'))\n",
    "\n",
    "fig = plt.figure(figsize=(14, 14))\n",
    "grid = AxesGrid(fig, 111,\n",
    "                nrows_ncols=(ns - 1, ns - 1),\n",
    "                axes_pad=0.3,\n",
    "                cbar_mode='single',\n",
    "                cbar_location='right',\n",
    "                cbar_pad=0.1\n",
    "                )\n",
    "done = []\n",
    "for ax in grid:\n",
    "    ax.set_axis_off()\n",
    "for s1, s2 in itertools.product(sources, sources):\n",
    "    if s1 == s2:\n",
    "        continue\n",
    "    if (s2, s1) in done:\n",
    "        continue\n",
    "    data = ods[s1] - ods[s2]\n",
    "    ax = grid[sources.index(s1) * (ns - 1) + sources[1:].index(s2)]\n",
    "    ax.set_axis_on()\n",
    "    smap.set_data(data)\n",
    "    smap.visualize(ax=ax, addcbar=False)\n",
    "    done.append((s1, s2))\n",
    "    ax.set_title(s1 + '-' + s2, fontsize=8)\n",
    "    \n",
    "cax = grid.cbar_axes[0]\n",
    "smap.colorbarbase(cax);\n",
    "\n",
    "plt.savefig(os.path.join(plot_dir, 'dem_diffs.png'), dpi=150, bbox_inches='tight')"
   ]
  },
  {
   "cell_type": "markdown",
   "metadata": {},
   "source": [
    "## Comparison scatter plot "
   ]
  },
  {
   "cell_type": "code",
   "execution_count": null,
   "metadata": {
    "papermill": {
     "duration": 28.675102,
     "end_time": "2019-05-02T12:30:57.924205",
     "exception": false,
     "start_time": "2019-05-02T12:30:29.249103",
     "status": "completed"
    },
    "tags": []
   },
   "outputs": [],
   "source": [
    "import seaborn as sns\n",
    "sns.set(style=\"ticks\")\n",
    "\n",
    "l1, l2 = (utils.nicenumber(df.min().min(), binsize=50, lower=True), \n",
    "          utils.nicenumber(df.max().max(), binsize=50, lower=False))\n",
    "\n",
    "def plot_unity(xdata, ydata, **kwargs):\n",
    "    points = np.linspace(l1, l2, 100)\n",
    "    plt.gca().plot(points, points, color='k', marker=None,\n",
    "                   linestyle=':', linewidth=3.0)\n",
    "\n",
    "g = sns.pairplot(df.dropna(how='all', axis=1).dropna(), plot_kws=dict(s=50, edgecolor=\"C0\", linewidth=1));\n",
    "g.map_offdiag(plot_unity)\n",
    "for asx in g.axes:\n",
    "    for ax in asx:\n",
    "        ax.set_xlim((l1, l2))\n",
    "        ax.set_ylim((l1, l2))\n",
    "\n",
    "plt.savefig(os.path.join(plot_dir, 'dem_scatter.png'), dpi=150, bbox_inches='tight')"
   ]
  },
  {
   "cell_type": "markdown",
   "metadata": {},
   "source": [
    "## Table statistics "
   ]
  },
  {
   "cell_type": "code",
   "execution_count": null,
   "metadata": {
    "papermill": {
     "duration": 0.074215,
     "end_time": "2019-05-02T12:30:58.035917",
     "exception": false,
     "start_time": "2019-05-02T12:30:57.961702",
     "status": "completed"
    },
    "tags": []
   },
   "outputs": [],
   "source": [
    "df.describe()"
   ]
  },
  {
   "cell_type": "code",
   "execution_count": null,
   "metadata": {
    "papermill": {
     "duration": 0.065549,
     "end_time": "2019-05-02T12:30:58.159184",
     "exception": false,
     "start_time": "2019-05-02T12:30:58.093635",
     "status": "completed"
    },
    "tags": []
   },
   "outputs": [],
   "source": [
    "df.corr()"
   ]
  },
  {
   "cell_type": "code",
   "execution_count": null,
   "metadata": {},
   "outputs": [],
   "source": [
    "df_diff.describe()"
   ]
  },
  {
   "cell_type": "code",
   "execution_count": null,
   "metadata": {},
   "outputs": [],
   "source": [
    "df_diff.abs().describe()"
   ]
  },
  {
   "cell_type": "markdown",
   "metadata": {},
   "source": [
    "## What's next?\n",
    "\n",
    "- return to the [OGGM documentation](https://docs.oggm.org)\n",
    "- back to the [table of contents](../welcome.ipynb)"
   ]
  }
 ],
 "metadata": {
  "celltoolbar": "Tags",
  "hide_input": false,
  "kernelspec": {
   "display_name": "Python 3 (ipykernel)",
   "language": "python",
   "name": "python3"
  },
  "language_info": {
   "codemirror_mode": {
    "name": "ipython",
    "version": 3
   },
   "file_extension": ".py",
   "mimetype": "text/x-python",
   "name": "python",
   "nbconvert_exporter": "python",
   "pygments_lexer": "ipython3",
   "version": "3.10.12"
  },
  "latex_envs": {
   "LaTeX_envs_menu_present": true,
   "autoclose": false,
   "autocomplete": true,
   "bibliofile": "biblio.bib",
   "cite_by": "apalike",
   "current_citInitial": 1,
   "eqLabelWithNumbers": true,
   "eqNumInitial": 1,
   "hotkeys": {
    "equation": "Ctrl-E",
    "itemize": "Ctrl-I"
   },
   "labels_anchors": false,
   "latex_user_defs": false,
   "report_style_numbering": false,
   "user_envs_cfg": false
  },
  "nbTranslate": {
   "displayLangs": [
    "*"
   ],
   "hotkey": "alt-t",
   "langInMainMenu": true,
   "sourceLang": "en",
   "targetLang": "fr",
   "useGoogleTranslate": true
  },
  "papermill": {
   "duration": 78.878142,
   "end_time": "2019-05-02T12:30:59.784271",
   "environment_variables": {},
   "exception": null,
   "input_path": "dem_comparison.ipynb",
   "output_path": "out-param.ipynb",
   "parameters": {
    "rgi_id": "RGI60-03.02489"
   },
   "start_time": "2019-05-02T12:29:40.906129",
   "version": "1.0.0"
  },
  "toc": {
   "base_numbering": 1,
   "nav_menu": {},
   "number_sections": false,
   "sideBar": true,
   "skip_h1_title": true,
   "title_cell": "Table of Contents",
   "title_sidebar": "Contents",
   "toc_cell": false,
   "toc_position": {},
   "toc_section_display": true,
   "toc_window_display": false
  }
 },
 "nbformat": 4,
 "nbformat_minor": 4
}
