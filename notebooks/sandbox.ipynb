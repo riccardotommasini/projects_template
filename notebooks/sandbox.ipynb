{
 "cells": [
  {
   "cell_type": "code",
   "execution_count": null,
   "metadata": {},
   "outputs": [],
   "source": [
    "from oggm import utils\n",
    "import geopandas as gpd\n",
    "from oggm import cfg\n",
    "from oggm import tasks, utils, workflow, graphics, DEFAULT_BASE_URL, global_task\n",
    "import xarray as xr\n",
    "import matplotlib.pyplot as plt\n",
    "from oggm.global_tasks import compile_fixed_geometry_mass_balance"
   ]
  },
  {
   "cell_type": "code",
   "execution_count": null,
   "metadata": {},
   "outputs": [],
   "source": [
    "# Initialize OGGM and set up the default run parameters\n",
    "cfg.initialize(logging_level='WARNING')\n",
    "\n",
    "# Local working directory (where OGGM will write its output)\n",
    "# WORKING_DIR = utils.gettempdir('OGGM_distr4')\n",
    "cfg.PATHS['working_dir'] = utils.get_temp_dir('OGGM_distributed', reset=True)\n",
    "\n",
    "rgi_ids = ['RGI60-15.03473']  # This is Aletsch\n",
    "gdir = workflow.init_glacier_directories(rgi_ids, prepro_base_url=DEFAULT_BASE_URL, from_prepro_level=4, prepro_border=80)[0]"
   ]
  },
  {
   "cell_type": "code",
   "execution_count": null,
   "metadata": {},
   "outputs": [],
   "source": [
    "infos = utils.compile_glacier_statistics(gdir)"
   ]
  },
  {
   "cell_type": "code",
   "execution_count": null,
   "metadata": {},
   "outputs": [],
   "source": [
    "infos"
   ]
  },
  {
   "cell_type": "code",
   "execution_count": null,
   "metadata": {},
   "outputs": [],
   "source": [
    "gdir"
   ]
  },
  {
   "cell_type": "markdown",
   "metadata": {},
   "source": [
    "# Compile fixed geometry mass balance"
   ]
  },
  {
   "cell_type": "code",
   "execution_count": null,
   "metadata": {},
   "outputs": [],
   "source": [
    "donnees = compile_fixed_geometry_mass_balance(gdir)"
   ]
  },
  {
   "cell_type": "code",
   "execution_count": null,
   "metadata": {},
   "outputs": [],
   "source": [
    "donnees[\"RGI60-15.03473\"]"
   ]
  },
  {
   "cell_type": "code",
   "execution_count": null,
   "metadata": {},
   "outputs": [],
   "source": [
    "import pandas as pd\n",
    "donnees = compile_fixed_geometry_mass_balance(gdir)\n",
    "# Créer un DataFrame à partir des données fournies\n",
    "donnees = pd.DataFrame({\n",
    "    'annee': [i for i in range(1901, 2020)],\n",
    "    'donnees': donnees[\"RGI60-15.03473\"]\n",
    "})\n",
    "\n",
    "# Convertir la colonne 'annee' en type de données datetime\n",
    "donnees['annee'] = pd.to_datetime(donnees['annee'], format='%Y')\n",
    "\n",
    "# Définir la colonne 'annee' comme index\n",
    "donnees = donnees.set_index('annee')\n",
    "\n",
    "# Calculer la moyenne sur une période de 5 ans\n",
    "moyenne_5_ans = donnees['donnees'].resample('10Y').mean()\n",
    "\n",
    "# Afficher le DataFrame avec la moyenne tous les 5 ans\n",
    "plt.plot(moyenne_5_ans)"
   ]
  },
  {
   "cell_type": "code",
   "execution_count": null,
   "metadata": {},
   "outputs": [],
   "source": [
    "print(moyenne_5_ans)"
   ]
  },
  {
   "cell_type": "code",
   "execution_count": null,
   "metadata": {},
   "outputs": [],
   "source": [
    "import pandas as pd"
   ]
  },
  {
   "cell_type": "code",
   "execution_count": null,
   "metadata": {},
   "outputs": [],
   "source": [
    "donnees = pd.to_datetime(donnees[\"year\"])  # Convertir la colonne 'annee' en type de données datetime si elle ne l'est pas déjà\n",
    "\n",
    "moyenne_5_ans = donnees.resample('5Y').mean()  # Calculer la moyenne sur une période de 5 ans\n"
   ]
  },
  {
   "cell_type": "code",
   "execution_count": null,
   "metadata": {},
   "outputs": [],
   "source": [
    "print(res2)"
   ]
  },
  {
   "cell_type": "markdown",
   "metadata": {},
   "source": [
    "# Compute downstream bedshape"
   ]
  },
  {
   "cell_type": "code",
   "execution_count": null,
   "metadata": {},
   "outputs": [],
   "source": [
    "from oggm.global_tasks import compile_ela"
   ]
  },
  {
   "cell_type": "code",
   "execution_count": null,
   "metadata": {},
   "outputs": [],
   "source": [
    "donnees = compile_ela(gdir, ys=1901, ye=2019)"
   ]
  },
  {
   "cell_type": "code",
   "execution_count": null,
   "metadata": {},
   "outputs": [],
   "source": [
    "plt.plot(donnees)"
   ]
  },
  {
   "cell_type": "code",
   "execution_count": null,
   "metadata": {},
   "outputs": [],
   "source": [
    "import pandas as pd\n",
    "# Créer un DataFrame à partir des données fournies\n",
    "donnees = pd.DataFrame({\n",
    "    'annee': [i for i in range(1901, 2020)],\n",
    "    'donnees': donnees[\"RGI60-15.03473\"]\n",
    "})\n",
    "\n",
    "# Convertir la colonne 'annee' en type de données datetime\n",
    "donnees['annee'] = pd.to_datetime(donnees['annee'], format='%Y')\n",
    "\n",
    "# Définir la colonne 'annee' comme index\n",
    "donnees = donnees.set_index('annee')\n",
    "\n",
    "# Calculer la moyenne sur une période de 5 ans\n",
    "moyenne_5_ans = donnees['donnees'].resample('10Y').mean()\n",
    "\n",
    "# Afficher le DataFrame avec la moyenne tous les 5 ans\n",
    "plt.plot(moyenne_5_ans)"
   ]
  },
  {
   "cell_type": "code",
   "execution_count": null,
   "metadata": {},
   "outputs": [],
   "source": [
    "!pip install ffmpeg"
   ]
  },
  {
   "cell_type": "code",
   "execution_count": null,
   "metadata": {},
   "outputs": [],
   "source": [
    "import matplotlib.pyplot as plt\n",
    "import matplotlib.animation\n",
    "import numpy as np\n",
    "\n",
    "t = np.linspace(0,2*np.pi)\n",
    "x = np.sin(t)\n",
    "\n",
    "fig, ax = plt.subplots()\n",
    "ax.axis([0,2*np.pi,-1,1])\n",
    "l, = ax.plot([],[])\n",
    "\n",
    "def animate(i):\n",
    "    l.set_data(t[:i], x[:i])\n",
    "\n",
    "ani = matplotlib.animation.FuncAnimation(fig, animate, frames=len(t))\n",
    "\n",
    "from IPython.display import HTML\n",
    "html = HTML(ani.to_jshtml())\n",
    "\n",
    "with open('animation.html', 'w') as f:\n",
    "    f.write(html.data)\n",
    "\n",
    "html"
   ]
  },
  {
   "cell_type": "code",
   "execution_count": null,
   "metadata": {},
   "outputs": [],
   "source": [
    "from matplotlib import pyplot as plt\n",
    "from matplotlib.animation import FuncAnimation\n",
    "import numpy as np\n",
    "\n",
    "fig = plt.figure(figsize = (7,5))\n",
    "axes = fig.add_subplot(1,1,1)\n",
    "axes.set_ylim(0, 300)\n",
    "\n",
    "y1 = []\n",
    "\n",
    "def animation_function(i):\n",
    "    y1 = i\n",
    "\n",
    "    plt.xlabel(\"Country\")\n",
    "    plt.ylabel(\"GDP of Country\")\n",
    "    \n",
    "    plt.bar([\"India\"],\n",
    "            [y1],\n",
    "            color = 'blue')\n",
    "\n",
    "plt.title(\"Bar Chart Animation\")\n",
    "\n",
    "animation = FuncAnimation(fig, animation_function, \n",
    "                          interval = 50)\n",
    "\n",
    "from IPython.display import HTML\n",
    "html = HTML(animation.to_jshtml())\n",
    "html\n"
   ]
  }
 ],
 "metadata": {
  "kernelspec": {
   "display_name": "oggm_env",
   "language": "python",
   "name": "python3"
  },
  "language_info": {
   "codemirror_mode": {
    "name": "ipython",
    "version": 3
   },
   "file_extension": ".py",
   "mimetype": "text/x-python",
   "name": "python",
   "nbconvert_exporter": "python",
   "pygments_lexer": "ipython3",
   "version": "3.8.10"
  }
 },
 "nbformat": 4,
 "nbformat_minor": 2
}
